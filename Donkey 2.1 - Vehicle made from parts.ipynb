{
 "cells": [
  {
   "cell_type": "markdown",
   "metadata": {},
   "source": [
    "## Donkey2.1\n",
    "This is a notebook to explore a change in Donkey archetecture to make it more modular. \n",
    "\n",
    "### Problem: \n",
    "Currently Donkey is written to use only images, steering angles, and throttle values. Changing anything about the code requires rewriting many different parts.\n",
    "\n",
    "### Solution:\n",
    "Standardize the way data is passed between, sensors, actuators, pilots and controllers so that a vehicle can more easily be manipulated. Specifically the change should:\n",
    "1. Enable contributors to create, test and use small code modules withou having to rewrite unrelated code sections. \n",
    "2. Support an arbitrary number of inputs(camera, lidar, ...) and outputs(actuators, ...). \n",
    "3. Make the car creation script human readable. \n",
    "\n",
    "\n",
    "### Architecture\n",
    "These goals could be achieved by separating the concerns each majore aspects of the vehicle. Here are the functions of in this architecture: \n",
    "1. Vehicle - a container class to hold and manage all aspects of the vehicle. \n",
    "2. Parts - modular components of the vehicle that read/write to the memory. This includes sensors, actuators, remote controlers and a datastore. \n",
    "3. Memory - holds the state of the vehicle and is used to pass variables between parts. \n",
    "4. Drive loop - a function of the vehicle that runs ensures each part interacts with the memory.\n",
    "\n",
    "\n",
    "![arch](images/donkey21_arch.png)"
   ]
  },
  {
   "cell_type": "markdown",
   "metadata": {},
   "source": [
    "### Example\n",
    "Here is an example of how to setup a car that only has a person that controlls it. \n",
    "\n",
    "```python\n",
    "\n",
    "#setup the parts\n",
    "camera = Camera(resolution=(120,160), refresh_rate=.1, threaded=True)\n",
    "controller = LocalWebController()\n",
    "throttle = ThrottleActuator(pwm_max=500, pwm_min=200, channel=0)\n",
    "steering = SteeringActuator(pwm_left=400, pwm_center=500, pwm_right=600, channel=1)\n",
    "datastore = FileDatastore(path='~/mydonkey/sessions/')\n",
    "\n",
    "#create the vehicle\n",
    "car = Vehicle()\n",
    "\n",
    "#add a camera and remote controller\n",
    "car.add(camera, outputs=['camera/image'], threaded=True)\n",
    "car.add(controller, inputs=['camera/image'], outputs=['user/throttle', 'user/angle', 'user/drivemode'])\n",
    "\n",
    "#get the final throttle and steering values to move the vehicle.\n",
    "car.add(throttle, inputs=['user/throttle'])\n",
    "car.add(steering, inputs=['user/steering'])\n",
    "\n",
    "#record all the variables in memory every looop.\n",
    "car.add(datastore, inputs='*')\n",
    "\n",
    "#start the drive loop\n",
    "car.start()\n",
    "```"
   ]
  },
  {
   "cell_type": "markdown",
   "metadata": {},
   "source": [
    "## Parts \n",
    "The majority of the vehicle code will be in parts. Parts are python classes that have a common structure that can be loaded by the vehicle and run in the drive loop. Processes that take a long time to run can be threaded so that they do not block the drive loop. Here is an example part that can be run threaded or not. "
   ]
  },
  {
   "cell_type": "code",
   "execution_count": 5,
   "metadata": {
    "collapsed": true
   },
   "outputs": [],
   "source": [
    "import time, random \n",
    "\n",
    "class RandPart():\n",
    "    name = \"Part Base class\"\n",
    "    \n",
    "    def __init__(self):\n",
    "        self.num = 0.\n",
    "    \n",
    "    def update(self):\n",
    "        #Threaded function.\n",
    "        self.running=True\n",
    "        while self.running:\n",
    "            self.num = self.run()\n",
    "    \n",
    "    def run(self):\n",
    "        #Called in drive loop if not threaded.\n",
    "        time.sleep(.5)\n",
    "        return [random.randint(0, 100)]\n",
    "    \n",
    "    def run_threaded(self):\n",
    "        #What's called in drive loop if part is threaded.\n",
    "        return self.num"
   ]
  },
  {
   "cell_type": "code",
   "execution_count": 7,
   "metadata": {},
   "outputs": [
    {
     "data": {
      "text/plain": [
       "[56]"
      ]
     },
     "execution_count": 7,
     "metadata": {},
     "output_type": "execute_result"
    }
   ],
   "source": [
    "part = RandPart()\n",
    "part.run()"
   ]
  },
  {
   "cell_type": "markdown",
   "metadata": {},
   "source": [
    "We can see that the part takes .5 seconds to process. When this part is in the vehicle, we don't want this part to hold up the execution of other processes so we can make it threaded like this.  "
   ]
  },
  {
   "cell_type": "code",
   "execution_count": 9,
   "metadata": {},
   "outputs": [
    {
     "name": "stdout",
     "output_type": "stream",
     "text": [
      "[32]\n",
      "[32]\n",
      "[32]\n",
      "[32]\n",
      "[32]\n",
      "[88]\n",
      "[88]\n",
      "[88]\n",
      "[88]\n",
      "[88]\n"
     ]
    }
   ],
   "source": [
    "from threading import Thread\n",
    "\n",
    "t = Thread(target=part.update, args=())\n",
    "t.daemon = True\n",
    "t.start()\n",
    "\n",
    "for _ in range(10):\n",
    "    print(part.run_threaded())\n",
    "    time.sleep(.1)\n",
    "\n",
    "part.running=False\n",
    "t.join()"
   ]
  },
  {
   "cell_type": "markdown",
   "metadata": {},
   "source": [
    "### Memory \n",
    "The memory's sole job is to hold and transmit data to the parts of the vehicle. This includes outputs of sensors, inputs to actuators and all the connecting state variables required by autopilots and remote controlls. \n",
    "\n",
    "While it is not intended to persist the values over time it could be designed to save an arbitrary number of iterations of the drive loop in a ring queue or something that had quick access. \n",
    "\n",
    "Longterm storage of the data stored in memory could implemented with a Datastore part that could save the data to the file system. "
   ]
  },
  {
   "cell_type": "code",
   "execution_count": 11,
   "metadata": {},
   "outputs": [
    {
     "data": {
      "text/plain": [
       "['donkey']"
      ]
     },
     "execution_count": 11,
     "metadata": {},
     "output_type": "execute_result"
    }
   ],
   "source": [
    "class Memory():\n",
    "    def __init__(self):\n",
    "        self.dict = {}\n",
    "        pass\n",
    "    \n",
    "    def put(self, keys, inputs):\n",
    "        for i, key in enumerate(keys):\n",
    "            self.dict[key] = inputs[i]\n",
    "            \n",
    "    def get(self, keys):\n",
    "        result = [self.dict.get(k) for k in keys]\n",
    "        return result\n",
    "        \n",
    "m = Memory()\n",
    "m.put(['name'], ['donkey'])\n",
    "m.get(['name'])"
   ]
  },
  {
   "cell_type": "markdown",
   "metadata": {},
   "source": [
    "### Vehicle"
   ]
  },
  {
   "cell_type": "code",
   "execution_count": 61,
   "metadata": {
    "collapsed": true
   },
   "outputs": [],
   "source": [
    "import random\n",
    "import time\n",
    "\n",
    "class Vehicle():\n",
    "    def __init__(self, mem=None):\n",
    "        \n",
    "        if not mem:\n",
    "            mem = Memory()\n",
    "        self.mem = mem\n",
    "        \n",
    "        self.parts = [] \n",
    "        self.on = True\n",
    "        threads = []\n",
    "        \n",
    "    def add(self, part, inputs=[], outputs=[], threaded=False):\n",
    "        \"\"\" \n",
    "        Method to add a part.\n",
    "        \n",
    "        inputs: list of variable names to get from memory\n",
    "        ouputs: list of variable names to save to memory\n",
    "        threaded: boolean indicating if part should be run in separate thread\n",
    "        \"\"\"\n",
    "        \n",
    "        p = part\n",
    "        print('Adding part {}.'.format(p.name))\n",
    "        entry={}\n",
    "        entry['part'] = p\n",
    "        entry['inputs'] = inputs\n",
    "        entry['outputs'] = outputs\n",
    "        \n",
    "        if threaded:\n",
    "            t = Thread(target=part.update, args=())\n",
    "            t.daemon = True\n",
    "            entry['thread'] = t\n",
    "            \n",
    "        self.parts.append(entry)\n",
    "    \n",
    "    \n",
    "    def start(self, delay=.1):\n",
    "        \"\"\" \n",
    "        Start the threaded parts and the drive loop. \n",
    "        \n",
    "        delay: seconds to sleep after each drive loop\n",
    "        \n",
    "        \"\"\"\n",
    "        \n",
    "        \n",
    "        for entry in self.parts:\n",
    "            if entry.get('thread'):\n",
    "                #start the update thread\n",
    "                entry.get('thread').start()\n",
    "        \n",
    "        #wait until the sensors/actuators warm up.\n",
    "        print('Starting vehicle...')\n",
    "        time.sleep(1)\n",
    "        \n",
    "        count = 0\n",
    "        while self.on:\n",
    "            count += 1\n",
    "            \n",
    "            for entry in self.parts:\n",
    "                p = entry['part']\n",
    "                #get inputs from memory\n",
    "                inputs = self.mem.get(entry['inputs'])\n",
    "                \n",
    "                #run the part\n",
    "                if entry.get('thread'):\n",
    "                    outputs = p.run_threaded(*inputs)\n",
    "                else:\n",
    "                    outputs = p.run(*inputs)\n",
    "                \n",
    "                #save the output to memory\n",
    "                self.mem.put(entry['outputs'], outputs)\n",
    "                \n",
    "                time.sleep(delay)\n",
    "                \n",
    "            #for testing stop the car after 10 iterations\n",
    "            if count > 10: self.on = False\n",
    "\n"
   ]
  },
  {
   "cell_type": "code",
   "execution_count": 62,
   "metadata": {
    "collapsed": true
   },
   "outputs": [],
   "source": [
    "class PrintPart():\n",
    "    \"\"\" A part to print variables we select from memory. \"\"\"\n",
    "    \n",
    "    name = \"PrintPart\"\n",
    "    \n",
    "    def run(self, *args):\n",
    "        #Called in drive loop if not threaded.\n",
    "        print('PrintPart printing: ', end = ' ')\n",
    "        print(*args)"
   ]
  },
  {
   "cell_type": "code",
   "execution_count": 63,
   "metadata": {
    "collapsed": true
   },
   "outputs": [],
   "source": [
    "V = Vehicle()"
   ]
  },
  {
   "cell_type": "code",
   "execution_count": 64,
   "metadata": {},
   "outputs": [
    {
     "name": "stdout",
     "output_type": "stream",
     "text": [
      "Adding part Part Base class.\n",
      "Adding part PrintPart.\n"
     ]
    }
   ],
   "source": [
    "V.add(RandPart(), outputs=['rand/num'], threaded=True)\n",
    "V.add(PrintPart(), inputs=['rand/num'])"
   ]
  },
  {
   "cell_type": "code",
   "execution_count": 65,
   "metadata": {},
   "outputs": [
    {
     "name": "stdout",
     "output_type": "stream",
     "text": [
      "Starting vehicle...\n",
      "PrintPart printing:  4\n",
      "PrintPart printing:  4\n",
      "PrintPart printing:  4\n",
      "PrintPart printing:  59\n",
      "PrintPart printing:  59\n",
      "PrintPart printing:  19\n",
      "PrintPart printing:  19\n",
      "PrintPart printing:  19\n",
      "PrintPart printing:  24\n",
      "PrintPart printing:  24\n",
      "PrintPart printing:  51\n"
     ]
    }
   ],
   "source": [
    "V.start()\n"
   ]
  },
  {
   "cell_type": "code",
   "execution_count": null,
   "metadata": {
    "collapsed": true
   },
   "outputs": [],
   "source": [
    "\n"
   ]
  },
  {
   "cell_type": "code",
   "execution_count": null,
   "metadata": {
    "collapsed": true
   },
   "outputs": [],
   "source": []
  }
 ],
 "metadata": {
  "kernelspec": {
   "display_name": "Python 3",
   "language": "python",
   "name": "python3"
  },
  "language_info": {
   "codemirror_mode": {
    "name": "ipython",
    "version": 3
   },
   "file_extension": ".py",
   "mimetype": "text/x-python",
   "name": "python",
   "nbconvert_exporter": "python",
   "pygments_lexer": "ipython3",
   "version": "3.5.2"
  }
 },
 "nbformat": 4,
 "nbformat_minor": 2
}
